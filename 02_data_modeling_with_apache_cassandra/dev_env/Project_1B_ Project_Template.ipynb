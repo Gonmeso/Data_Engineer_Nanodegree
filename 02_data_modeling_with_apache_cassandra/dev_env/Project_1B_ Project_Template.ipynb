{
 "cells": [
  {
   "cell_type": "markdown",
   "metadata": {},
   "source": [
    "# Part I. ETL Pipeline for Pre-Processing the Files"
   ]
  },
  {
   "cell_type": "markdown",
   "metadata": {},
   "source": [
    "## PLEASE RUN THE FOLLOWING CODE FOR PRE-PROCESSING THE FILES"
   ]
  },
  {
   "cell_type": "markdown",
   "metadata": {},
   "source": [
    "#### Import Python packages "
   ]
  },
  {
   "cell_type": "code",
   "execution_count": 117,
   "metadata": {},
   "outputs": [],
   "source": [
    "# Import Python packages \n",
    "import pandas as pd\n",
    "import cassandra\n",
    "import re\n",
    "import os\n",
    "import glob\n",
    "import numpy as np\n",
    "import json\n",
    "import csv"
   ]
  },
  {
   "cell_type": "markdown",
   "metadata": {},
   "source": [
    "#### Creating list of filepaths to process original event csv data files"
   ]
  },
  {
   "cell_type": "code",
   "execution_count": 118,
   "metadata": {},
   "outputs": [
    {
     "name": "stdout",
     "output_type": "stream",
     "text": [
      "/opt/dev_env\n"
     ]
    }
   ],
   "source": [
    "# checking your current working directory\n",
    "print(os.getcwd())\n",
    "\n",
    "# Get your current folder and subfolder event data\n",
    "filepath = os.getcwd() + '/event_data'\n",
    "\n",
    "# Create a for loop to create a list of files and collect each filepath\n",
    "for root, dirs, files in os.walk(filepath):\n",
    "    \n",
    "# join the file path and roots with the subdirectories using glob\n",
    "    file_path_list = glob.glob(os.path.join(root,'*'))\n",
    "    assert len(file_path_list) == 30"
   ]
  },
  {
   "cell_type": "markdown",
   "metadata": {},
   "source": [
    "#### Processing the files to create the data file csv that will be used for Apache Casssandra tables"
   ]
  },
  {
   "cell_type": "code",
   "execution_count": 119,
   "metadata": {},
   "outputs": [
    {
     "name": "stdout",
     "output_type": "stream",
     "text": [
      "8056\n"
     ]
    }
   ],
   "source": [
    "# initiating an empty list of rows that will be generated from each file\n",
    "full_data_rows_list = [] \n",
    "    \n",
    "# for every filepath in the file path list \n",
    "for f in file_path_list:\n",
    "\n",
    "# reading csv file \n",
    "    with open(f, 'r', encoding = 'utf8', newline='') as csvfile: \n",
    "        # creating a csv reader object \n",
    "        csvreader = csv.reader(csvfile) \n",
    "        next(csvreader)\n",
    "        \n",
    " # extracting each data row one by one and append it        \n",
    "        for line in csvreader:\n",
    "            #print(line)\n",
    "            full_data_rows_list.append(line) \n",
    "            \n",
    "# uncomment the code below if you would like to get total number of rows \n",
    "print(len(full_data_rows_list))\n",
    "# uncomment the code below if you would like to check to see what the list of event data rows will look like\n",
    "#print(full_data_rows_list)\n",
    "\n",
    "# creating a smaller event data csv file called event_datafile_full csv that will be used to insert data into the \\\n",
    "# Apache Cassandra tables\n",
    "csv.register_dialect('myDialect', quoting=csv.QUOTE_ALL, skipinitialspace=True)\n",
    "\n",
    "with open('event_datafile_new.csv', 'w', encoding = 'utf8', newline='') as f:\n",
    "    writer = csv.writer(f, dialect='myDialect')\n",
    "    writer.writerow(['artist','firstName','gender','itemInSession','lastName','length',\\\n",
    "                'level','location','sessionId','song','userId'])\n",
    "    for row in full_data_rows_list:\n",
    "        if (row[0] == ''):\n",
    "            continue\n",
    "        writer.writerow((row[0], row[2], row[3], row[4], row[5], row[6], row[7], row[8], row[12], row[13], row[16]))\n"
   ]
  },
  {
   "cell_type": "code",
   "execution_count": 120,
   "metadata": {},
   "outputs": [
    {
     "name": "stdout",
     "output_type": "stream",
     "text": [
      "6821\n"
     ]
    }
   ],
   "source": [
    "# check the number of rows in your csv file\n",
    "with open('event_datafile_new.csv', 'r', encoding = 'utf8') as f:\n",
    "    print(sum(1 for line in f))"
   ]
  },
  {
   "cell_type": "markdown",
   "metadata": {},
   "source": [
    "# Part II. Complete the Apache Cassandra coding portion of your project. \n",
    "\n",
    "## Now you are ready to work with the CSV file titled <font color=red>event_datafile_new.csv</font>, located within the Workspace directory.  The event_datafile_new.csv contains the following columns: \n",
    "- artist \n",
    "- firstName of user\n",
    "- gender of user\n",
    "- item number in session\n",
    "- last name of user\n",
    "- length of the song\n",
    "- level (paid or free song)\n",
    "- location of the user\n",
    "- sessionId\n",
    "- song title\n",
    "- userId\n",
    "\n",
    "The image below is a screenshot of what the denormalized data should appear like in the <font color=red>**event_datafile_new.csv**</font> after the code above is run:<br>\n",
    "\n",
    "<img src=\"images/image_event_datafile_new.jpg\">"
   ]
  },
  {
   "cell_type": "markdown",
   "metadata": {},
   "source": [
    "## Begin writing your Apache Cassandra code in the cells below"
   ]
  },
  {
   "cell_type": "markdown",
   "metadata": {},
   "source": [
    "#### Creating a Cluster"
   ]
  },
  {
   "cell_type": "code",
   "execution_count": 121,
   "metadata": {},
   "outputs": [],
   "source": [
    "# This should make a connection to a Cassandra instance your local machine \n",
    "# (127.0.0.1)\n",
    "\n",
    "from cassandra.cluster import Cluster\n",
    "cluster = Cluster(contact_points=['cassandra'])\n",
    "\n",
    "# To establish connection and begin executing queries, need a session\n",
    "session = cluster.connect()"
   ]
  },
  {
   "cell_type": "markdown",
   "metadata": {},
   "source": [
    "#### Create Keyspace"
   ]
  },
  {
   "cell_type": "code",
   "execution_count": 122,
   "metadata": {},
   "outputs": [
    {
     "data": {
      "text/plain": [
       "<cassandra.cluster.ResultSet at 0x7f70e40c0470>"
      ]
     },
     "execution_count": 122,
     "metadata": {},
     "output_type": "execute_result"
    }
   ],
   "source": [
    "# Create sparkify keyspace using a unique node\n",
    "session.execute(\"\"\"\n",
    "                   CREATE KEYSPACE IF NOT EXISTS sparkify\n",
    "                   WITH REPLICATION = { \n",
    "                          'class' : 'SimpleStrategy',\n",
    "                          'replication_factor' : 1 }\n",
    "                \"\"\")"
   ]
  },
  {
   "cell_type": "markdown",
   "metadata": {},
   "source": [
    "#### Set Keyspace"
   ]
  },
  {
   "cell_type": "code",
   "execution_count": 123,
   "metadata": {},
   "outputs": [],
   "source": [
    "# Set keyspace to sparkify\n",
    "session.set_keyspace('sparkify')"
   ]
  },
  {
   "cell_type": "markdown",
   "metadata": {},
   "source": [
    "### Now we need to create tables to run the following queries. Remember, with Apache Cassandra you model the database tables on the queries you want to run."
   ]
  },
  {
   "cell_type": "code",
   "execution_count": 124,
   "metadata": {},
   "outputs": [
    {
     "data": {
      "text/plain": [
       "<cassandra.cluster.ResultSet at 0x7f70e55ca5c0>"
      ]
     },
     "execution_count": 124,
     "metadata": {},
     "output_type": "execute_result"
    }
   ],
   "source": [
    "\"\"\"\n",
    "Create the first table containing the historic of the music\n",
    "The primare key was chosen regarding the fact thath sessionId and\n",
    "itemInSession must be queried and that the compose key formed using\n",
    "both columns results in a really unique primary key.\n",
    "\"\"\" \n",
    "session.execute(\"\"\"\n",
    "                CREATE TABLE IF NOT EXISTS music_library (\n",
    "                    sessionId int,\n",
    "                    itemInSession int,\n",
    "                    artist text,\n",
    "                    length float,\n",
    "                    song text,\n",
    "                    PRIMARY KEY(sessionId, itemInSession))\n",
    "                \"\"\")\n",
    "\n",
    "\"\"\"\n",
    "Create the second table regarding the songs listened by user\n",
    "The primare key was chosen regarding the fact thath userId and\n",
    "sessionId must be queried and that the compose key formed using\n",
    "both columns results in a really unique primary key. Also\n",
    "it makes sense to partition by user (so every session is clusered together)\n",
    "and after that by the sessions instead of the other way around\n",
    "\"\"\"\n",
    "session.execute(\"\"\"\n",
    "                CREATE TABLE IF NOT EXISTS user_library (\n",
    "                    userId int,\n",
    "                    sessionId int,\n",
    "                    itemInSession int,\n",
    "                    artist text,\n",
    "                    firstName text,\n",
    "                    lastName text,\n",
    "                    song text,\n",
    "                    PRIMARY KEY(userId, sessionId, itemInSession))\n",
    "                \"\"\")\n",
    "\n",
    "\"\"\"\n",
    "Create the third table regarding the songs listened by the users\n",
    "In this case the primary key is composed of all the columns in orther to \n",
    "be fully unique and song as the partition key to make the queries\n",
    "faster regarding the songs listened by.\n",
    "\"\"\"\n",
    "# Create third table\n",
    "session.execute(\"\"\"\n",
    "                CREATE TABLE IF NOT EXISTS songs_per_user (\n",
    "                    song text,\n",
    "                    firstName text,\n",
    "                    lastName text,\n",
    "                    PRIMARY KEY(song, firstName, lastName))\n",
    "                \"\"\")"
   ]
  },
  {
   "cell_type": "markdown",
   "metadata": {},
   "source": [
    "## Create queries to ask the following three questions of the data\n",
    "\n",
    "### 1. Give me the artist, song title and song's length in the music app history that was heard during  sessionId = 338, and itemInSession  = 4\n",
    "\n",
    "\n",
    "### 2. Give me only the following: name of artist, song (sorted by itemInSession) and user (first and last name) for userid = 10, sessionid = 182\n",
    "    \n",
    "\n",
    "### 3. Give me every user name (first and last) in my music app history who listened to the song 'All Hands Against His Own'\n",
    "\n",
    "\n"
   ]
  },
  {
   "cell_type": "code",
   "execution_count": 125,
   "metadata": {},
   "outputs": [],
   "source": [
    "# Make the inserts in the at the same time, so the file is only looped once\n",
    "\n",
    "file = 'event_datafile_new.csv'\n",
    "\n",
    "with open(file, encoding = 'utf8') as f:\n",
    "    csvreader = csv.reader(f)\n",
    "    next(csvreader) # skip header\n",
    "    for line in csvreader:\n",
    "        # Insert rows @ music_library\n",
    "        query_music = \"\"\"\n",
    "                         INSERT INTO music_library (artist, itemInSession, length, sessionId, song)\n",
    "                         VALUES (%s, %s, %s, %s, %s);\n",
    "                      \"\"\"\n",
    "        session.execute(query_music, (line[0], int(line[3]), float(line[5]), int(line[8]), line[9]))  \n",
    "        \n",
    "        # Insert rows @ user_library\n",
    "        query_user = \"\"\"\n",
    "                        INSERT INTO user_library (artist, firstName, itemInSession, lastName, sessionId, song, userId)\n",
    "                        VALUES (%s, %s, %s, %s, %s, %s, %s);\n",
    "                     \"\"\"\n",
    "        session.execute(query_user, (line[0], line[1], int(line[3]), line[4], int(line[8]), line[9], int(line[10])))\n",
    "        \n",
    "        # Insert rows @ songs_per_user\n",
    "        query_songs = \"\"\"\n",
    "                        INSERT INTO songs_per_user (firstName, lastName, song)\n",
    "                        VALUES (%s, %s, %s);\n",
    "                      \"\"\"\n",
    "        session.execute(query_songs, (line[1], line[4], line[9]))"
   ]
  },
  {
   "cell_type": "code",
   "execution_count": 126,
   "metadata": {},
   "outputs": [],
   "source": [
    "# Retieve the artist, song and song length regarding sessionId 338 and itemSession 4\n",
    "query_one = \"\"\"\n",
    "               SELECT artist, song, length FROM music_library\n",
    "               WHERE sessionId = 338 AND itemInSession = 4;\n",
    "            \"\"\""
   ]
  },
  {
   "cell_type": "markdown",
   "metadata": {},
   "source": [
    "#### Do a SELECT to verify that the data have been inserted into each table"
   ]
  },
  {
   "cell_type": "code",
   "execution_count": 127,
   "metadata": {
    "scrolled": true
   },
   "outputs": [
    {
     "name": "stdout",
     "output_type": "stream",
     "text": [
      "0. Row ->  Artist: Faithless, Song: Music Matters (Mark Knight Dub), Length: 495.30731201171875\n"
     ]
    }
   ],
   "source": [
    "# Verify select of query_one\n",
    "results = session.execute(query_one)\n",
    "for idx, res in enumerate(results):\n",
    "    print(f'{idx}. Row ->  Artist: {res.artist}, Song: {res.song}, Length: {res.length}')"
   ]
  },
  {
   "cell_type": "markdown",
   "metadata": {},
   "source": [
    "### Query for the second table"
   ]
  },
  {
   "cell_type": "code",
   "execution_count": 128,
   "metadata": {},
   "outputs": [],
   "source": [
    "# Second query\n",
    "query_two = \"\"\"\n",
    "               SELECT artist, song, firstName, lastName FROM user_library\n",
    "               WHERE userId = 10 AND sessionId = 182;\n",
    "            \"\"\""
   ]
  },
  {
   "cell_type": "code",
   "execution_count": 129,
   "metadata": {},
   "outputs": [
    {
     "name": "stdout",
     "output_type": "stream",
     "text": [
      "0. Row ->  Artist: Down To The Bone, Song: Keep On Keepin' On, User: Sylvie Cruz\n",
      "1. Row ->  Artist: Three Drives, Song: Greece 2000, User: Sylvie Cruz\n",
      "2. Row ->  Artist: Sebastien Tellier, Song: Kilometer, User: Sylvie Cruz\n",
      "3. Row ->  Artist: Lonnie Gordon, Song: Catch You Baby (Steve Pitron & Max Sanna Radio Edit), User: Sylvie Cruz\n"
     ]
    }
   ],
   "source": [
    "# Verify select of query_two\n",
    "results = session.execute(query_two)\n",
    "for idx, res in enumerate(results):\n",
    "    user = f'{res.firstname} {res.lastname}'\n",
    "    print(f'{idx}. Row ->  Artist: {res.artist}, Song: {res.song}, User: {user}')"
   ]
  },
  {
   "cell_type": "markdown",
   "metadata": {},
   "source": [
    "### Query the third table"
   ]
  },
  {
   "cell_type": "code",
   "execution_count": 130,
   "metadata": {},
   "outputs": [],
   "source": [
    "# Third query\n",
    "query_three = \"\"\"\n",
    "               SELECT firstName, lastName FROM songs_per_user\n",
    "               WHERE song = 'All Hands Against His Own';\n",
    "            \"\"\""
   ]
  },
  {
   "cell_type": "code",
   "execution_count": 131,
   "metadata": {},
   "outputs": [
    {
     "name": "stdout",
     "output_type": "stream",
     "text": [
      "0. Row -> User: Jacqueline Lynch\n",
      "1. Row -> User: Sara Johnson\n",
      "2. Row -> User: Tegan Levine\n"
     ]
    }
   ],
   "source": [
    "# Verify select of query_three\n",
    "results = session.execute(query_three)\n",
    "for idx, res in enumerate(results):\n",
    "    user = f'{res.firstname} {res.lastname}'\n",
    "    print(f'{idx}. Row -> User: {user}')"
   ]
  },
  {
   "cell_type": "markdown",
   "metadata": {},
   "source": [
    "### Drop the tables before closing out the sessions"
   ]
  },
  {
   "cell_type": "code",
   "execution_count": 132,
   "metadata": {},
   "outputs": [
    {
     "data": {
      "text/plain": [
       "<cassandra.cluster.ResultSet at 0x7f70e5600400>"
      ]
     },
     "execution_count": 132,
     "metadata": {},
     "output_type": "execute_result"
    }
   ],
   "source": [
    "session.execute('DROP TABLE IF EXISTS music_library;')\n",
    "session.execute('DROP TABLE IF EXISTS user_library;')\n",
    "session.execute('DROP TABLE IF EXISTS song_per_user;')"
   ]
  },
  {
   "cell_type": "markdown",
   "metadata": {},
   "source": [
    "### Close the session and cluster connection¶"
   ]
  },
  {
   "cell_type": "code",
   "execution_count": 133,
   "metadata": {},
   "outputs": [],
   "source": [
    "session.shutdown()\n",
    "cluster.shutdown()"
   ]
  }
 ],
 "metadata": {
  "kernelspec": {
   "display_name": "Python 3",
   "language": "python",
   "name": "python3"
  },
  "language_info": {
   "codemirror_mode": {
    "name": "ipython",
    "version": 3
   },
   "file_extension": ".py",
   "mimetype": "text/x-python",
   "name": "python",
   "nbconvert_exporter": "python",
   "pygments_lexer": "ipython3",
   "version": "3.6.10"
  }
 },
 "nbformat": 4,
 "nbformat_minor": 4
}
